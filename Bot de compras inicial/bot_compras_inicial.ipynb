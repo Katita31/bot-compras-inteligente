{
 "cells": [
  {
   "cell_type": "markdown",
   "id": "4d2139f9",
   "metadata": {},
   "source": [
    "# 🚀 **Evolución del Proyecto: Bot de Compras Inteligente**\n",
    "\n",
    "Este notebook es un proyecto en constante evolución. La siguiente fase de desarrollo incluirá la **estimación de la demanda mediante modelos ARIMA** para optimizar la planificación de inventarios.\n",
    "\n",
    "🔮 **Próximos pasos**:\n",
    "1. 📊 **Análisis de Datos Históricos**: Utilización de datos de ventas para entrenar un modelo ARIMA.\n",
    "2. 🔍 **Implementación del Modelo ARIMA**:\n",
    "   - Uso de la librería `statsmodels` en Python.\n",
    "   - Transformación de datos para garantizar estacionariedad.\n",
    "   - Selección óptima de parámetros `(p, d, q)`.\n",
    "3. 🤖 **Integración con el Bot de Compras**:\n",
    "   - Incorporación de predicciones al cálculo del punto de reorden.\n",
    "   - Ajuste dinámico de pedidos según la demanda prevista.\n",
    "4. 🔄 **Automatización y Actualización**:\n",
    "   - Implementación de procesos para actualizar el modelo con datos recientes y mejorar la precisión.\n",
    "\n",
    "📌 **Recursos de referencia**:\n",
    "- [Ejemplo de modelos ARIMA en Python](https://github.com/gmonaci/ARIMA)\n",
    "- [Guía de ARIMA de Microsoft](https://github.com/microsoft/ML-For-Beginners)\n",
    "\n",
    "💡 Esta mejora permitirá una mejor gestión del inventario, reduciendo costos y optimizando la planificación de compras. 🚀\n"
   ]
  },
  {
   "cell_type": "markdown",
   "id": "ee8cc75a",
   "metadata": {},
   "source": [
    "# 📌 **Cómo Usar Este Notebook**\n",
    "1. Edita las variables en `Datos de prueba`\n",
    "2. Ejecuta todas las celdas (Kernel > Restart & Run All)\n",
    "3. Los resultados se mostrarán al final"
   ]
  },
  {
   "cell_type": "code",
   "execution_count": 4,
   "id": "cb127247-2f20-4f56-aa97-e729990895a9",
   "metadata": {},
   "outputs": [
    {
     "name": "stdout",
     "output_type": "stream",
     "text": [
      "✅ Situación óptima\n"
     ]
    }
   ],
   "source": [
    "# Definición de variables necesarias\n",
    "punto_reorden = 120  # Ejemplo de valor\n",
    "costo_total = 95000  # Ejemplo de costo total\n",
    "\n",
    "# Llamada a la función\n",
    "print(resumen_decisiones(punto_reorden, costo_total))\n"
   ]
  },
  {
   "cell_type": "code",
   "execution_count": 7,
   "id": "de1d6062-3332-4539-a5e9-d3cec2c1dd72",
   "metadata": {},
   "outputs": [],
   "source": [
    "cantidad = 10  # Ejemplo de cantidad de unidades compradas\n",
    "precio_unitario = 1000  # Definir precio unitario si falta\n",
    "precio_con_descuento = cantidad * precio_unitario * 0.9  # Ejemplo con 10% de descuento\n"
   ]
  },
  {
   "cell_type": "code",
   "execution_count": 8,
   "id": "7cd112a4",
   "metadata": {},
   "outputs": [
    {
     "name": "stdout",
     "output_type": "stream",
     "text": [
      "✅ Situación óptima\n"
     ]
    }
   ],
   "source": [
    "def resumen_decisiones(punto_reorden, costo_total):\n",
    "    if punto_reorden < 100:  # Ejemplo simple\n",
    "        return \"🔔 Recomendación: Considera pedido urgente\"\n",
    "    elif costo_total > 100000:\n",
    "        return \"💡 Sugerencia: Revisa costos de almacenamiento\"\n",
    "    else:\n",
    "        return \"✅ Situación óptima\"\n",
    "\n",
    "print(resumen_decisiones(punto_reorden, costo_total))"
   ]
  },
  {
   "cell_type": "code",
   "execution_count": 9,
   "id": "a62e56f2",
   "metadata": {},
   "outputs": [
    {
     "name": "stdout",
     "output_type": "stream",
     "text": [
      "\n",
      "📊 **Resultados del Análisis**:\n",
      "🔄 Punto de reorden: 120 unidades (Stock ✅ suficiente)\n",
      "💵 Costo total inventario: $95,000 CLP\n",
      "🎯 Precio con descuento (x10u): $9,000.00 CLP\n",
      "\n"
     ]
    }
   ],
   "source": [
    "print(f\"\"\"\n",
    "📊 **Resultados del Análisis**:\n",
    "🔄 Punto de reorden: {punto_reorden} unidades (Stock {'✅ suficiente' if punto_reorden > 70 else '⚠ bajo!'})\n",
    "💵 Costo total inventario: ${costo_total:,} CLP\n",
    "🎯 Precio con descuento (x{cantidad}u): ${precio_con_descuento:,.2f} CLP\n",
    "\"\"\")"
   ]
  },
  {
   "cell_type": "code",
   "execution_count": 10,
   "id": "7042f485",
   "metadata": {},
   "outputs": [],
   "source": [
    "params = {\n",
    "    \"demanda_diaria\": 50,\n",
    "    \"tiempo_entrega\": 3,\n",
    "    \"stock_seguridad\": 70,\n",
    "    \"precio_unitario\": 1000,  # ¡Faltaba esta variable!\n",
    "    # ... otras variables\n",
    "}"
   ]
  },
  {
   "cell_type": "code",
   "execution_count": 11,
   "id": "2deec093",
   "metadata": {},
   "outputs": [],
   "source": [
    "import matplotlib.pyplot as plt\n",
    "plt.style.use('ggplot')  # Estilo profesional"
   ]
  },
  {
   "cell_type": "markdown",
   "id": "3a798e60-0f8c-43ad-9642-9c013f8abf99",
   "metadata": {},
   "source": [
    "# 1️⃣ ¿Qué es un bot de planificación de compras?\n",
    "\n",
    "Es un programa automatizado que ayuda a gestionar compras, inventarios y proveedores, tomando decisiones basadas en datos. Puede hacer cosas como:\n",
    "✔ Monitorear precios.\n",
    "✔ Optimizar inventarios.\n",
    "✔ Automatizar pedidos.\n",
    "✔ Evaluar proveedores."
   ]
  },
  {
   "cell_type": "markdown",
   "id": "dc4e7e7b-e7f2-4775-8be1-07bd4edb66eb",
   "metadata": {},
   "source": [
    "## 1️⃣ Estructura del Bot"
   ]
  },
  {
   "cell_type": "markdown",
   "id": "58ae78e1-1673-4a1a-a042-22cd5f2e476e",
   "metadata": {},
   "source": [
    "# 2️⃣ Conceptos básicos y lógicos\n",
    "📌 Entrada (Input)\n",
    "\n",
    "Es la información que el bot necesita para funcionar, como:\n",
    "\n",
    "    -Lista de productos y sus precios.\n",
    "    -Stock actual de inventario.\n",
    "    -Historial de compras anteriores.\n",
    "    -Tiempos de entrega de proveedores.\n",
    "\n",
    "📌 Proceso\n",
    "\n",
    "El bot analiza los datos con ciertas reglas y fórmulas. Puede hacer cosas como:\n",
    "\n",
    "    -Comparar precios entre proveedores y elegir el más barato.\n",
    "    -Predecir demanda basándose en compras pasadas.\n",
    "    -Generar alertas si un stock baja de cierto nivel.\n",
    "\n",
    "📌 Salida (Output)\n",
    "\n",
    "Es el resultado que entrega el bot, por ejemplo:\n",
    "\n",
    "    -“El producto X está en oferta, cómpralo ahora.”\n",
    "    -“Stock bajo en bodega, necesitas pedir más.”\n",
    "    -“El proveedor Y entrega tarde, busca otra opción.”\n",
    "\n",
    "# 3️⃣ Fórmulas y conceptos matemáticos\n",
    "🔸 Fórmula de Punto de Reorden (Stock Mínimo)\n",
    "\n",
    "Para saber cuándo pedir más productos:\n",
    "PR=D∗LT+SS\n",
    "PR=D∗LT+SS\n",
    "\n",
    "Donde:\n",
    "\n",
    "    PRPR = Punto de reorden.\n",
    "    DD = Demanda diaria promedio.\n",
    "    LTLT = Tiempo de entrega del proveedor.\n",
    "    SSSS = Stock de seguridad (para imprevistos).\n",
    "\n",
    "👉 Ejemplo: Si vendes 10 unidades al día, el proveedor tarda 5 días en entregar y tienes un stock de seguridad de 20:\n",
    "PR=10∗5+20=70\n",
    "PR=10∗5+20=70\n",
    "\n",
    "Cuando tengas 70 unidades en stock, debes hacer un pedido.\n",
    "🔸 Fórmula de Costo Total de Inventario\n",
    "\n",
    "Para optimizar costos de almacenamiento:\n",
    "CT=Cp+Cm\n",
    "CT=Cp​+Cm​\n",
    "\n",
    "Donde:\n",
    "\n",
    "    CTCT = Costo total.\n",
    "    CpCp​ = Costo de pedidos (compras).\n",
    "    CmCm​ = Costo de mantener inventario (bodega).\n",
    "\n",
    "Si comprar muchas veces es caro y almacenar mucho también, el bot busca un equilibrio.\n",
    "🔸 Descuento por Volumen\n",
    "\n",
    "Si un proveedor ofrece descuentos por comprar más cantidad, usamos:\n",
    "PC=P∗Q∗(1−D)\n",
    "PC=P∗Q∗(1−D)\n",
    "\n",
    "Donde:\n",
    "\n",
    "    PCPC = Precio con descuento.\n",
    "    PP = Precio unitario.\n",
    "    QQ = Cantidad comprada.\n",
    "    DD = Descuento en decimal (Ej: 10% → 0.1).\n",
    "\n",
    "👉 Ejemplo: Un producto cuesta $1.000, si compras 100 unidades con 10% de descuento:\n",
    "PC=1000∗100∗(1−0.1)=90.000\n",
    "PC=1000∗100∗(1−0.1)=90.000\n",
    "\n",
    "Así el bot puede calcular si conviene comprar más para ahorrar dinero.\n",
    "\n",
    "# 4️⃣ Aplicaciones en Python\n",
    "\n",
    "Usamos estas fórmulas en un bot para:\n",
    "✔ Hacer pedidos automáticamente.\n",
    "✔ Buscar el mejor proveedor.\n",
    "✔ Calcular cuándo reabastecer productos.\n"
   ]
  },
  {
   "cell_type": "markdown",
   "id": "efc5b003-e4af-4076-ae0e-4d8fddaedd8b",
   "metadata": {},
   "source": [
    "# Objetivo del Bot\n",
    "\n",
    "El bot calculará:\n",
    "✔ Punto de Reorden → Cuándo hacer un pedido.\n",
    "✔ Costo Total de Inventario → Para optimizar almacenamiento.\n",
    "✔ Descuento por Volumen → Para ver si conviene comprar más.\n",
    "\n",
    "# El bot recibirá datos como:\n",
    "\n",
    "-Demanda diaria promedio\n",
    "-Tiempo de entrega del proveedor\n",
    "-Stock de seguridad\n",
    "-Costo de pedidos y almacenamiento\n",
    "-Precios y descuentos\n",
    "\n",
    "Y devolverá: ✅ \"Haz un pedido, stock bajo\" si es necesario. \n",
    "             ✅ Cálculo del costo total de inventario. \n",
    "             ✅ Precio final con descuento si aplica."
   ]
  },
  {
   "cell_type": "code",
   "execution_count": 12,
   "id": "08ccf574-b09f-4485-bc4d-c34c8fec997e",
   "metadata": {
    "scrolled": true
   },
   "outputs": [],
   "source": [
    "# 📌 Bot de Planificación de Compras en Python\n",
    "\n",
    "def calcular_punto_reorden(demanda_diaria, tiempo_entrega, stock_seguridad):\n",
    "    \"\"\"Calcula el punto de reorden.\"\"\"\n",
    "    return demanda_diaria * tiempo_entrega + stock_seguridad\n",
    "\n",
    "def calcular_costo_total(costo_pedido, costo_mantenimiento):\n",
    "    \"\"\"Calcula el costo total de inventario.\"\"\"\n",
    "    return costo_pedido + costo_mantenimiento\n",
    "\n",
    "def calcular_descuento(precio_unitario, cantidad, descuento):\n",
    "    \"\"\"Aplica el descuento por volumen.\"\"\"\n",
    "    return precio_unitario * cantidad * (1 - descuento)\n"
   ]
  },
  {
   "cell_type": "code",
   "execution_count": 13,
   "id": "d45c66fd-484f-4d33-ab3d-2249a09571d2",
   "metadata": {},
   "outputs": [],
   "source": [
    "# 🔹 Datos de prueba (Los datos se pueden cambiar y adaptar a lo que se necesite validar)\n",
    "demanda_diaria = 50  # Unidades vendidas por día\n",
    "tiempo_entrega = 3    # Días que tarda el proveedor\n",
    "stock_seguridad =70  # Unidades extras para imprevistos\n",
    "\n",
    "costo_pedido = 50000   # Costo de cada pedido\n",
    "costo_mantenimiento = 30000  # Costo de almacenamiento \n",
    "\n",
    "cantidad = 100          # Cantidad que se quiere comprar\n",
    "descuento = 0.1         # Descuento del 10% (0.1)"
   ]
  },
  {
   "cell_type": "code",
   "execution_count": 14,
   "id": "2784cf99-5da4-4fbd-8585-ab77b8c55bd9",
   "metadata": {},
   "outputs": [],
   "source": [
    "# 🔹 Cálculos\n",
    "punto_reorden = calcular_punto_reorden(demanda_diaria, tiempo_entrega, stock_seguridad)\n",
    "costo_total = calcular_costo_total(costo_pedido, costo_mantenimiento)\n",
    "precio_con_descuento = calcular_descuento(precio_unitario, cantidad, descuento)\n"
   ]
  },
  {
   "cell_type": "code",
   "execution_count": 15,
   "id": "11c3b047-c78a-4f04-9c3f-0f28f8ba9794",
   "metadata": {},
   "outputs": [
    {
     "name": "stdout",
     "output_type": "stream",
     "text": [
      "📌 Punto de reorden: 220 unidades.\n",
      "✅ Stock suficiente.\n",
      "📌 Costo total de inventario: $80000 CLP.\n",
      "📌 Precio final con descuento por volumen: $90000.0 CLP.\n"
     ]
    }
   ],
   "source": [
    "# 🔹 Resultados\n",
    "print(f\"📌 Punto de reorden: {punto_reorden} unidades.\")\n",
    "if punto_reorden <= 70:\n",
    "    print(\"⚠ ¡Stock bajo! Haz un pedido ahora.\")\n",
    "else:\n",
    "    print(\"✅ Stock suficiente.\")\n",
    "\n",
    "print(f\"📌 Costo total de inventario: ${costo_total} CLP.\")\n",
    "print(f\"📌 Precio final con descuento por volumen: ${precio_con_descuento} CLP.\")\n"
   ]
  }
 ],
 "metadata": {
  "kernelspec": {
   "display_name": "Python 3 (ipykernel)",
   "language": "python",
   "name": "python3"
  },
  "language_info": {
   "codemirror_mode": {
    "name": "ipython",
    "version": 3
   },
   "file_extension": ".py",
   "mimetype": "text/x-python",
   "name": "python",
   "nbconvert_exporter": "python",
   "pygments_lexer": "ipython3",
   "version": "3.13.1"
  }
 },
 "nbformat": 4,
 "nbformat_minor": 5
}
